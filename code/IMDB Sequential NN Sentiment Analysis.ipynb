{
 "cells": [
  {
   "cell_type": "code",
   "execution_count": 4,
   "id": "15e80b1d",
   "metadata": {},
   "outputs": [
    {
     "name": "stderr",
     "output_type": "stream",
     "text": [
      "2023-05-03 16:40:02.270616: I tensorflow/core/platform/cpu_feature_guard.cc:193] This TensorFlow binary is optimized with oneAPI Deep Neural Network Library (oneDNN) to use the following CPU instructions in performance-critical operations:  SSE4.1 SSE4.2\n",
      "To enable them in other operations, rebuild TensorFlow with the appropriate compiler flags.\n"
     ]
    }
   ],
   "source": [
    "import tensorflow as tf # import tensor flow \n",
    "import numpy as np\n",
    "import keras\n",
    "from tensorflow.keras import layers\n",
    "import matplotlib.pyplot as plt"
   ]
  },
  {
   "cell_type": "code",
   "execution_count": 5,
   "id": "c43624cb",
   "metadata": {},
   "outputs": [],
   "source": [
    " from tensorflow.keras.datasets import imdb\n",
    "(train_data, train_labels), (test_data, test_labels) = imdb.load_data(\n",
    "    num_words=10000)"
   ]
  },
  {
   "cell_type": "code",
   "execution_count": 6,
   "id": "28934b8d",
   "metadata": {},
   "outputs": [
    {
     "name": "stdout",
     "output_type": "stream",
     "text": [
      "[1, 14, 22, 16, 43, 530, 973, 1622, 1385, 65, 458, 4468, 66, 3941, 4, 173, 36, 256, 5, 25, 100, 43, 838, 112, 50, 670, 2, 9, 35, 480, 284, 5, 150, 4, 172, 112, 167, 2, 336, 385, 39, 4, 172, 4536, 1111, 17, 546, 38, 13, 447, 4, 192, 50, 16, 6, 147, 2025, 19, 14, 22, 4, 1920, 4613, 469, 4, 22, 71, 87, 12, 16, 43, 530, 38, 76, 15, 13, 1247, 4, 22, 17, 515, 17, 12, 16, 626, 18, 2, 5, 62, 386, 12, 8, 316, 8, 106, 5, 4, 2223, 5244, 16, 480, 66, 3785, 33, 4, 130, 12, 16, 38, 619, 5, 25, 124, 51, 36, 135, 48, 25, 1415, 33, 6, 22, 12, 215, 28, 77, 52, 5, 14, 407, 16, 82, 2, 8, 4, 107, 117, 5952, 15, 256, 4, 2, 7, 3766, 5, 723, 36, 71, 43, 530, 476, 26, 400, 317, 46, 7, 4, 2, 1029, 13, 104, 88, 4, 381, 15, 297, 98, 32, 2071, 56, 26, 141, 6, 194, 7486, 18, 4, 226, 22, 21, 134, 476, 26, 480, 5, 144, 30, 5535, 18, 51, 36, 28, 224, 92, 25, 104, 4, 226, 65, 16, 38, 1334, 88, 12, 16, 283, 5, 16, 4472, 113, 103, 32, 15, 16, 5345, 19, 178, 32]\n"
     ]
    }
   ],
   "source": [
    "print(train_data[0])"
   ]
  },
  {
   "cell_type": "code",
   "execution_count": 7,
   "id": "40e4d7f1",
   "metadata": {},
   "outputs": [
    {
     "name": "stdout",
     "output_type": "stream",
     "text": [
      "1\n"
     ]
    }
   ],
   "source": [
    "print(train_labels[0])"
   ]
  },
  {
   "cell_type": "code",
   "execution_count": 8,
   "id": "dd09d161",
   "metadata": {},
   "outputs": [
    {
     "data": {
      "text/plain": [
       "9999"
      ]
     },
     "execution_count": 8,
     "metadata": {},
     "output_type": "execute_result"
    }
   ],
   "source": [
    "max([max(sequence) for sequence in train_data])"
   ]
  },
  {
   "cell_type": "code",
   "execution_count": 9,
   "id": "fcf7374e",
   "metadata": {},
   "outputs": [],
   "source": [
    "word_index = imdb.get_word_index() #1\n",
    "reverse_word_index = dict(\n",
    "    [(value, key) for (key, value) in word_index.items()]) #2\n",
    "decoded_review = ' '.join(\n",
    "    [reverse_word_index.get(i - 3, '?') for i in train_data[0]])#3"
   ]
  },
  {
   "cell_type": "code",
   "execution_count": 10,
   "id": "2a62d672",
   "metadata": {},
   "outputs": [],
   "source": [
    "def vectorize_sequences(sequences, dimension=10000):\n",
    "    results = np.zeros((len(sequences), dimension))#1\n",
    "    for i, sequence in enumerate(sequences):\n",
    "        results[i, sequence] = 1#2\n",
    "    return results\n",
    "x_train = vectorize_sequences(train_data)#3\n",
    "x_test = vectorize_sequences(test_data)#4"
   ]
  },
  {
   "cell_type": "code",
   "execution_count": 11,
   "id": "06a2a402",
   "metadata": {},
   "outputs": [
    {
     "data": {
      "text/plain": [
       "array([0., 1., 1., ..., 0., 0., 0.])"
      ]
     },
     "execution_count": 11,
     "metadata": {},
     "output_type": "execute_result"
    }
   ],
   "source": [
    "x_train[0]"
   ]
  },
  {
   "cell_type": "code",
   "execution_count": 12,
   "id": "1e0ed8ba",
   "metadata": {},
   "outputs": [],
   "source": [
    "y_train = np.asarray(train_labels).astype('float32')\n",
    "y_test = np.asarray(test_labels).astype('float32')"
   ]
  },
  {
   "cell_type": "code",
   "execution_count": 13,
   "id": "ab31bfa0",
   "metadata": {},
   "outputs": [],
   "source": [
    "model = keras.Sequential([\n",
    "  layers.Dense(16, activation='relu'),\n",
    "  layers.Dense(16, activation='relu'),\n",
    "  layers.Dense(1, activation='sigmoid')\n",
    "])"
   ]
  },
  {
   "cell_type": "code",
   "execution_count": 14,
   "id": "491677ab",
   "metadata": {},
   "outputs": [],
   "source": [
    "model.compile(optimizer='rmsprop',\n",
    "              loss='binary_crossentropy',\n",
    "              metrics=['accuracy'])"
   ]
  },
  {
   "cell_type": "code",
   "execution_count": 15,
   "id": "8243b54d",
   "metadata": {},
   "outputs": [],
   "source": [
    "x_val = x_train[:10000]\n",
    "partial_x_train = x_train[10000:]\n",
    "y_val = y_train[:10000]\n",
    "partial_y_train = y_train[10000:]"
   ]
  },
  {
   "cell_type": "code",
   "execution_count": 16,
   "id": "4bbfd528",
   "metadata": {},
   "outputs": [
    {
     "name": "stdout",
     "output_type": "stream",
     "text": [
      "Epoch 1/20\n",
      "30/30 [==============================] - 2s 39ms/step - loss: 0.5085 - acc: 0.7845 - val_loss: 0.3734 - val_acc: 0.8750\n",
      "Epoch 2/20\n",
      "30/30 [==============================] - 0s 13ms/step - loss: 0.2988 - acc: 0.9028 - val_loss: 0.3006 - val_acc: 0.8889\n",
      "Epoch 3/20\n",
      "30/30 [==============================] - 0s 10ms/step - loss: 0.2209 - acc: 0.9261 - val_loss: 0.2889 - val_acc: 0.8852\n",
      "Epoch 4/20\n",
      "30/30 [==============================] - 0s 9ms/step - loss: 0.1767 - acc: 0.9405 - val_loss: 0.2747 - val_acc: 0.8882\n",
      "Epoch 5/20\n",
      "30/30 [==============================] - 0s 9ms/step - loss: 0.1394 - acc: 0.9551 - val_loss: 0.2860 - val_acc: 0.8867\n",
      "Epoch 6/20\n",
      "30/30 [==============================] - 0s 9ms/step - loss: 0.1180 - acc: 0.9625 - val_loss: 0.2942 - val_acc: 0.8843\n",
      "Epoch 7/20\n",
      "30/30 [==============================] - 0s 9ms/step - loss: 0.0981 - acc: 0.9696 - val_loss: 0.3221 - val_acc: 0.8805\n",
      "Epoch 8/20\n",
      "30/30 [==============================] - 0s 9ms/step - loss: 0.0793 - acc: 0.9773 - val_loss: 0.3450 - val_acc: 0.8819\n",
      "Epoch 9/20\n",
      "30/30 [==============================] - 0s 9ms/step - loss: 0.0673 - acc: 0.9820 - val_loss: 0.3649 - val_acc: 0.8800\n",
      "Epoch 10/20\n",
      "30/30 [==============================] - 0s 9ms/step - loss: 0.0525 - acc: 0.9874 - val_loss: 0.4069 - val_acc: 0.8686\n",
      "Epoch 11/20\n",
      "30/30 [==============================] - 0s 9ms/step - loss: 0.0438 - acc: 0.9900 - val_loss: 0.4170 - val_acc: 0.8743\n",
      "Epoch 12/20\n",
      "30/30 [==============================] - 0s 9ms/step - loss: 0.0384 - acc: 0.9906 - val_loss: 0.4482 - val_acc: 0.8737\n",
      "Epoch 13/20\n",
      "30/30 [==============================] - 0s 9ms/step - loss: 0.0324 - acc: 0.9917 - val_loss: 0.4832 - val_acc: 0.8695\n",
      "Epoch 14/20\n",
      "30/30 [==============================] - 0s 9ms/step - loss: 0.0227 - acc: 0.9957 - val_loss: 0.5103 - val_acc: 0.8713\n",
      "Epoch 15/20\n",
      "30/30 [==============================] - 0s 9ms/step - loss: 0.0182 - acc: 0.9973 - val_loss: 0.5507 - val_acc: 0.8675\n",
      "Epoch 16/20\n",
      "30/30 [==============================] - 0s 9ms/step - loss: 0.0172 - acc: 0.9969 - val_loss: 0.5738 - val_acc: 0.8677\n",
      "Epoch 17/20\n",
      "30/30 [==============================] - 0s 9ms/step - loss: 0.0124 - acc: 0.9983 - val_loss: 0.6054 - val_acc: 0.8664\n",
      "Epoch 18/20\n",
      "30/30 [==============================] - 0s 9ms/step - loss: 0.0078 - acc: 0.9994 - val_loss: 0.7201 - val_acc: 0.8530\n",
      "Epoch 19/20\n",
      "30/30 [==============================] - 0s 9ms/step - loss: 0.0066 - acc: 0.9995 - val_loss: 0.7052 - val_acc: 0.8650\n",
      "Epoch 20/20\n",
      "30/30 [==============================] - 0s 9ms/step - loss: 0.0072 - acc: 0.9989 - val_loss: 0.7112 - val_acc: 0.8651\n"
     ]
    }
   ],
   "source": [
    "model.compile(optimizer='rmsprop',\n",
    "              loss='binary_crossentropy',\n",
    "              metrics=['acc'])\n",
    "history = model.fit(partial_x_train,\n",
    "                    partial_y_train,\n",
    "                    epochs=20,\n",
    "                    batch_size=512,\n",
    "                    validation_data=(x_val, y_val))"
   ]
  },
  {
   "cell_type": "code",
   "execution_count": 17,
   "id": "f20ac2e9",
   "metadata": {},
   "outputs": [],
   "source": [
    "history_dict = history.history"
   ]
  },
  {
   "cell_type": "code",
   "execution_count": 18,
   "id": "9108d08f",
   "metadata": {},
   "outputs": [
    {
     "data": {
      "text/plain": [
       "dict_keys(['loss', 'acc', 'val_loss', 'val_acc'])"
      ]
     },
     "execution_count": 18,
     "metadata": {},
     "output_type": "execute_result"
    }
   ],
   "source": [
    "history_dict.keys()"
   ]
  },
  {
   "cell_type": "code",
   "execution_count": 19,
   "id": "2057ecff",
   "metadata": {},
   "outputs": [
    {
     "data": {
      "image/png": "[encoded data removed]",
      "text/plain": [
       "<Figure size 640x480 with 1 Axes>"
      ]
     },
     "metadata": {},
     "output_type": "display_data"
    }
   ],
   "source": [
    "history_dict = history.history\n",
    "loss_values = history_dict['loss']\n",
    "val_loss_values = history_dict['val_loss']\n",
    "epochs = range(1, len(loss_values) + 1)\n",
    "plt.plot(epochs, loss_values, 'ro', label='Training loss')\n",
    "plt.plot(epochs, val_loss_values, 'g', label='Validation loss')\n",
    "plt.title('Training and validation loss')\n",
    "plt.xlabel('Epochs')\n",
    "plt.ylabel('Loss')\n",
    "plt.legend()\n",
    "plt.show()"
   ]
  },
  {
   "cell_type": "code",
   "execution_count": 20,
   "id": "cb5095b2",
   "metadata": {},
   "outputs": [
    {
     "data": {
      "image/png": "[encoded data removed]",
      "text/plain": [
       "<Figure size 640x480 with 1 Axes>"
      ]
     },
     "metadata": {},
     "output_type": "display_data"
    }
   ],
   "source": [
    "plt.clf()\n",
    "acc = history_dict['acc']\n",
    "val_acc = history_dict['val_acc']\n",
    "plt.plot(epochs, acc, 'go', label='Training acc')\n",
    "plt.plot(epochs, val_acc, 'g', label='Validation acc')\n",
    "plt.title('Training and validation accuracy')\n",
    "plt.xlabel('Epochs')\n",
    "plt.ylabel('Accuracy')\n",
    "plt.legend()\n",
    "plt.show()"
   ]
  },
  {
   "cell_type": "code",
   "execution_count": 21,
   "id": "454ad1b4",
   "metadata": {
    "scrolled": false
   },
   "outputs": [
    {
     "name": "stdout",
     "output_type": "stream",
     "text": [
      "Epoch 1/25\n",
      "49/49 [==============================] - 1s 9ms/step - loss: 0.4470 - accuracy: 0.8242\n",
      "Epoch 2/25\n",
      "49/49 [==============================] - 0s 6ms/step - loss: 0.2547 - accuracy: 0.9123\n",
      "Epoch 3/25\n",
      "49/49 [==============================] - 0s 6ms/step - loss: 0.2005 - accuracy: 0.9285\n",
      "Epoch 4/25\n",
      "49/49 [==============================] - 0s 6ms/step - loss: 0.1656 - accuracy: 0.9422\n",
      "Epoch 5/25\n",
      "49/49 [==============================] - 0s 6ms/step - loss: 0.1409 - accuracy: 0.9505\n",
      "Epoch 6/25\n",
      "49/49 [==============================] - 0s 6ms/step - loss: 0.1199 - accuracy: 0.9604\n",
      "Epoch 7/25\n",
      "49/49 [==============================] - 0s 6ms/step - loss: 0.1022 - accuracy: 0.9667\n",
      "Epoch 8/25\n",
      "49/49 [==============================] - 0s 6ms/step - loss: 0.0872 - accuracy: 0.9717\n",
      "Epoch 9/25\n",
      "49/49 [==============================] - 0s 6ms/step - loss: 0.0749 - accuracy: 0.9765\n",
      "Epoch 10/25\n",
      "49/49 [==============================] - 0s 6ms/step - loss: 0.0603 - accuracy: 0.9820\n",
      "Epoch 11/25\n",
      "49/49 [==============================] - 0s 6ms/step - loss: 0.0495 - accuracy: 0.9858\n",
      "Epoch 12/25\n",
      "49/49 [==============================] - 0s 6ms/step - loss: 0.0396 - accuracy: 0.9896\n",
      "Epoch 13/25\n",
      "49/49 [==============================] - 0s 6ms/step - loss: 0.0314 - accuracy: 0.9920\n",
      "Epoch 14/25\n",
      "49/49 [==============================] - 0s 6ms/step - loss: 0.0259 - accuracy: 0.9931\n",
      "Epoch 15/25\n",
      "49/49 [==============================] - 0s 6ms/step - loss: 0.0189 - accuracy: 0.9957\n",
      "Epoch 16/25\n",
      "49/49 [==============================] - 0s 7ms/step - loss: 0.0162 - accuracy: 0.9961\n",
      "Epoch 17/25\n",
      "49/49 [==============================] - 0s 7ms/step - loss: 0.0107 - accuracy: 0.9980\n",
      "Epoch 18/25\n",
      "49/49 [==============================] - 0s 6ms/step - loss: 0.0101 - accuracy: 0.9978\n",
      "Epoch 19/25\n",
      "49/49 [==============================] - 0s 6ms/step - loss: 0.0057 - accuracy: 0.9994\n",
      "Epoch 20/25\n",
      "49/49 [==============================] - 0s 6ms/step - loss: 0.0059 - accuracy: 0.9988\n",
      "Epoch 21/25\n",
      "49/49 [==============================] - 0s 6ms/step - loss: 0.0047 - accuracy: 0.9992\n",
      "Epoch 22/25\n",
      "49/49 [==============================] - 0s 6ms/step - loss: 0.0039 - accuracy: 0.9992\n",
      "Epoch 23/25\n",
      "49/49 [==============================] - 0s 6ms/step - loss: 0.0069 - accuracy: 0.9983\n",
      "Epoch 24/25\n",
      "49/49 [==============================] - 0s 6ms/step - loss: 9.1346e-04 - accuracy: 1.0000\n",
      "Epoch 25/25\n",
      "49/49 [==============================] - 0s 6ms/step - loss: 0.0041 - accuracy: 0.9988\n",
      "782/782 [==============================] - 1s 915us/step - loss: 1.0267 - accuracy: 0.8504\n"
     ]
    }
   ],
   "source": [
    "model = keras.Sequential([\n",
    "    layers.Dense(16, activation='relu'),\n",
    "    layers.Dense(16, activation='relu'),\n",
    "    layers.Dense(1, activation='sigmoid')\n",
    "])\n",
    "model.compile(optimizer='rmsprop',\n",
    "              loss='binary_crossentropy',\n",
    "              metrics=['accuracy'])\n",
    "model.fit(x_train, y_train, epochs=25, batch_size=512)\n",
    "results = model.evaluate(x_test, y_test)"
   ]
  },
  {
   "cell_type": "code",
   "execution_count": 22,
   "id": "c37af1f5",
   "metadata": {},
   "outputs": [
    {
     "data": {
      "text/plain": [
       "[1.0267161130905151, 0.8504400253295898]"
      ]
     },
     "execution_count": 22,
     "metadata": {},
     "output_type": "execute_result"
    }
   ],
   "source": [
    "results"
   ]
  },
  {
   "cell_type": "code",
   "execution_count": 23,
   "id": "caa48af2",
   "metadata": {},
   "outputs": [],
   "source": [
    "model = keras.Sequential([\n",
    "  layers.Flatten(input_shape=(10000,)),\n",
    "  layers.Dense(16, activation='relu'),\n",
    "  layers.Dense(16, activation='relu'),\n",
    "  layers.Dense(1, activation='sigmoid')\n",
    "])"
   ]
  },
  {
   "cell_type": "code",
   "execution_count": 24,
   "id": "e99b4e7e",
   "metadata": {
    "scrolled": true
   },
   "outputs": [
    {
     "name": "stdout",
     "output_type": "stream",
     "text": [
      "782/782 [==============================] - 1s 815us/step\n",
      "Review:\n",
      " ? please give this one a miss br br ? ? and the rest of the cast rendered terrible performances the show is flat flat flat br br i don't know how michael madison could have allowed this one on his plate he almost seemed to know this wasn't going to work out and his performance was quite ? so all you madison fans give this a miss\n",
      "True label: negative\n",
      "Predicted label: negative\n",
      "\n",
      "Review:\n",
      " ? this film requires a lot of patience because it focuses on mood and character development the plot is very simple and many of the scenes take place on the same set in frances ? the sandy dennis character apartment but the film builds to a disturbing climax br br the characters create an atmosphere ? with sexual tension and psychological ? it's very interesting that robert altman directed this considering the style and structure of his other films still the trademark altman audio style is evident here and there i think what really makes this film work is the brilliant performance by sandy dennis it's definitely one of her darker characters but she plays it so perfectly and convincingly that it's scary michael burns does a good job as the mute young man regular altman player michael murphy has a small part the ? moody set fits the content of the story very well in short this movie is a powerful study of loneliness sexual ? and desperation be patient ? up the atmosphere and pay attention to the wonderfully written script br br i praise robert altman this is one of his many films that deals with unconventional fascinating subject matter this film is disturbing but it's sincere and it's sure to ? a strong emotional response from the viewer if you want to see an unusual film some might even say bizarre this is worth the time br br unfortunately it's very difficult to find in video stores you may have to buy it off the internet\n",
      "True label: positive\n",
      "Predicted label: positive\n",
      "\n",
      "Review:\n",
      " ? many animation buffs consider ? ? the great forgotten genius of one special branch of the art puppet animation which he invented almost single ? and as it happened almost accidentally as a young man ? was more interested in ? than the cinema but his ? attempt to film two ? ? fighting led to an unexpected breakthrough in film making when he realized he could ? movement by ? beetle ? and ? them one frame at a time this discovery led to the production of amazingly elaborate classic short the ? revenge which he made in russia in ? at a time when motion picture animation of all sorts was in its ? br br the political ? of the russian revolution caused ? to move to paris where one of his first productions ? was a dark political satire ? known as ? or the ? who wanted a king a strain of black comedy can be found in almost all of films but here it is very dark indeed aimed more at grown ups who can appreciate the satirical aspects than children who would most likely find the climax ? i'm middle aged and found it pretty ? myself and indeed ? of the film intended for english speaking viewers of the 1920s were given title cards filled with ? and ? in order to help ? the sharp ? of the finale br br our tale is set in a swamp the ? ? where the citizens are unhappy with their government and have called a special session to see what they can do to improve matters they decide to ? ? for a king the crowds are ? animated in this opening sequence it couldn't have been easy to make so many frog puppets look alive simultaneously while ? for his part is depicted as a ? white ? guy in the clouds who looks like he'd rather be taking a ? when ? sends them a tree like god who regards them the ? decide that this is no improvement and demand a different king irritated ? sends them a ? br br delighted with this ? looking new king who towers above them the ? welcome him with a ? of ? dressed ? the mayor steps forward to hand him the key to the ? as ? cameras record the event to everyone's horror the ? promptly eats the mayor and then goes on a merry rampage ? citizens at random a title card ? reads news of the king's ? throughout the kingdom when the now terrified ? once more ? ? for help he loses his temper and ? their community with lightning ? the moral of our story delivered by a hapless frog just before he is eaten is let well enough alone br br considering the time period when this startling little film was made and considering the fact that it was made by a russian ? at the height of that ? country's civil war it would be easy to see this as a ? about those events ? may or may not have had ? turmoil in mind when he made ? but whatever ? his choice of material the film stands as a ? tale of universal ? ? could be the soviet union italy germany or japan in the 1930s or any country of any era that lets its guard down and is overwhelmed by ? it's a fascinating film even a charming one in its macabre way but its message is no joke\n",
      "True label: positive\n",
      "Predicted label: negative\n",
      "\n",
      "Review:\n",
      " ? i generally love this type of movie however this time i found myself wanting to kick the screen since i can't do that i will just complain about it this was absolutely idiotic the things that happen with the dead kids are very cool but the alive people are absolute idiots i am a grown man pretty big and i can defend myself well however i would not do half the stuff the little girl does in this movie also the mother in this movie is reckless with her children to the point of neglect i wish i wasn't so angry about her and her actions because i would have otherwise enjoyed the flick what a number she was take my advise and fast forward through everything you see her do until the end also is anyone else getting sick of watching movies that are filmed so dark anymore one can hardly see what is being filmed as an audience we are ? involved with the actions on the screen so then why the hell can't we have night vision\n",
      "True label: negative\n",
      "Predicted label: negative\n",
      "\n",
      "Review:\n",
      " ? like some other people wrote i'm a die hard mario fan and i loved this game br br this game starts slightly boring but trust me it's worth it as soon as you start your hooked the levels are fun and ? they will hook you ? your mind turns to ? i'm not kidding this game is also ? and is beautifully done br br to keep this spoiler free i have to keep my mouth shut about details but please try this game it'll be worth it br br story 9 9 action 10 1 it's that good ? 10 attention ? 10 average 10\n",
      "True label: positive\n",
      "Predicted label: positive\n",
      "\n",
      "Review:\n",
      " ? i'm absolutely disgusted this movie isn't being sold all who love this movie should email disney and increase the demand for it they'd eventually have to sell it then i'd buy copies for everybody i know everything and everybody in this movie did a good job and i haven't figured out why disney hasn't put this movie on dvd or on vhs in rental stores at least i haven't seen any copies this is a wicked good movie and should be seen by all the kids in the new generation don't get to see it and i think they should it should at least be put back on the channel this movie doesn't deserve a cheap ? it deserves the real thing i'm them now this movie will be on dvd\n",
      "True label: positive\n",
      "Predicted label: negative\n",
      "\n",
      "Review:\n",
      " ? originally supposed to be just a part of a huge epic the year ? depicting the revolution of ? ? is the story of the ? of the crew of the ? in ? harbor the film opens with the crew ? meat and the captain ? the execution of the an ? takes place during which the revolutionary leader is killed this ? is taken to the shore to lie in state when the ? gather on a huge flight of steps ? the harbor ? troops appear and march down the steps breaking up the crowd a naval ? is sent to ? the ? but at the moment when the ships come into range their ? allow the to pass through ? non historically accurate ending is open ended thus ? that this was the seed of the later ? revolution that would bloom in russia the film is broken into five parts men and ? drama on the an appeal from the dead the ? steps and meeting the ? br br ? was a revolutionary artist but at the genius level not wanting to make a historical drama ? used visual ? to give the film a ? look so that the viewer feels he is ? on a thrilling and politically revolutionary story this technique is used by the battle of ? br br unlike ? relied on or the casting of non professionals who had striking physical appearances the extraordinary faces of the cast are what one remembers from ? this technique is later used by frank ? in mr deeds goes to town and meet john ? but in ? no one individual is cast as a hero or heroine the story is told through a series of scenes that are combined in a special effect known as montage the editing and selection of short segments to produce a desired effect on the viewer d w griffith also used the montage but no one ? it so well as ? br br the artistic filming of the crew sleeping in their is ? by the ? swinging of tables suspended from chains in the ? in contrast the confrontation between the crew and their officers is charged with electricity and the ? ? of the masses demonstrate their rage with injustice br br ? introduced the technique of showing an action and repeating it again but from a slightly different angle to demonstrate intensity the breaking of a plate bearing the words give us this day our daily bread ? the beginning of the end this technique is used in last year at ? also when the ? surgeon is tossed over the side his ? ? from the ? it was these glasses that the officer used to ? and pass the ? ? meat this sequence ties the punishment to the corruption of the ? era br br the most noted sequence in the film and perhaps in all of film history is the ? steps the broad ? of the steps are filled with hundreds of extras rapid and dramatic violence is always suggested and not explicit yet the visual images of the deaths of a few will last in the minds of the viewer forever br br the ? shots of ? boots and legs ? the steps are cleverly ? with long menacing shadows from a sun at the top of the steps the pace of the sequence is deliberately varied between the ? soldiers and a few civilians who ? up courage to beg them to stop a close up of a woman's face frozen in horror after being struck by a ? sword is the direct ? of the bank ? in bonnie in clyde and gives a lasting impression of the horror of the ? regime br br the death of a young mother leads to a baby ? ? down the steps in a sequence that has been copied by hitchcock in foreign ? by terry gilliam in brazil and brian ? in the ? this sequence is shown repeatedly from various angles thus drawing out what probably was only a five second event br br ? is a film that the revolutionary spirit ? it for those already committed and it for the ? it ? of fire and ? with the senseless ? of the ? ? regime its greatest impact has been on film students who have borrowed and only slightly improved on techniques invented in russia several generations ago\n",
      "True label: positive\n",
      "Predicted label: negative\n",
      "\n",
      "Review:\n",
      " ? the ? richard ? dog is ? to ? joan fontaine dog however when ? bing crosby arrives in town to sell a record player to the emperor his dog is attacked by ? dog after a revenge attack where ? is ? from town a ? insists that ? dog must confront dog so that she can overcome her ? fears this is arranged and the dogs fall in love so do ? and ? the rest of the film passes by with romance and at the end ? dog gives birth but who is the father br br the dog story is the very weak vehicle that is used to try and create a story between humans its a terrible storyline there are 3 main musical pieces all of which are rubbish bad songs and dreadful choreography its just an extremely boring film bing has too many words in each sentence and delivers them in an almost irritating manner its not funny ever but its meant to be bing and joan have done much better than this\n",
      "True label: negative\n",
      "Predicted label: negative\n",
      "\n",
      "Review:\n",
      " ? hollywood had a long love affair with bogus ? nights tales but few of these products have stood the test of time the most memorable were the jon hall maria ? films which have long since become camp this one is filled with dubbed songs ? ? and slapstick it's a truly crop of corn and pretty near ? today it was nominated for its imaginative special effects which are almost ? in this day and age ? mainly of trick photography the only outstanding positive feature which survives is its beautiful color and clarity sad to say of the many films made in this genre few of them come up to alexander ? original thief of ? almost any other ? nights film is superior to this one though it's a loser\n",
      "True label: negative\n",
      "Predicted label: negative\n",
      "\n",
      "Review:\n",
      " ? this film is where the batman franchise ought to have stopped though i will ? that the ideas behind batman forever were excellent and could have been easily realised by a competent director as it turned out this was not to be the case br br apparently warner brothers executives were disappointed with how dark this second batman film from tim burton turned out apart from the idiocy of expecting anything else from burton and the conservative ? of their subsequent decision to turn the franchise into an homage to the sixties tv series i fail to understand how batman returns can be considered at all disappointing br br true it is not quite the equal of the first film though it ? all the minor ? of style found in batman a weaker script that ? the ? between not just two but three characters invites ? comparisons to the masterful pairing of keaton and jack nicholson as the joker in the first film yet for all this it remains a ? dark film true to the way the batman was always meant to be and highly satisfying br br michael keaton returns as the batman and his alter ego bruce wayne with ? max ? christopher walken named in honour of the 1920s german silent actor his partner in crime ? ? the penguin danny ? in brilliant makeup reminiscent of laurence ? richard iii and ? kyle the ? michelle pfeiffer whom wayne romances both as himself and as the batman the four principals turn in excellent performances especially walken and ? while together keaton and pfeiffer explore the darker side of double identities br br there are some intriguing concepts in this film about the only weakness i can really point out is a certain to the script in some places which i think is due mostly to the way this film is a four ? fight there simply isn't enough time to properly explore what's going on br br nevertheless this is a damn good film i highly recommend watching this in ? with the first and then ? for how good the series could have been had it continued under burton and keaton\n",
      "True label: positive\n",
      "Predicted label: negative\n",
      "\n"
     ]
    }
   ],
   "source": [
    "# Get the predicted probabilities for the test set\n",
    "y_pred = model.predict(x_test)\n",
    "\n",
    "# Apply a threshold of 0.5 to convert probabilities to labels\n",
    "y_pred_labels = ['positive' if p >= 0.5 else 'negative' for p in y_pred]\n",
    "\n",
    "# Print the first 10 reviews and their predicted labels\n",
    "for i in range(10):\n",
    "    print('Review:\\n', ' '.join([reverse_word_index.get(i - 3, '?') for i in test_data[i]]))\n",
    "    print('True label:', 'positive' if y_test[i] else 'negative')\n",
    "    print('Predicted label:', y_pred_labels[i])\n",
    "    print()"
   ]
  },
  {
   "cell_type": "code",
   "execution_count": 25,
   "id": "2bcd7711",
   "metadata": {},
   "outputs": [],
   "source": [
    "import pandas as pd\n",
    "\n",
    "df = pd.DataFrame({'review': [' '.join([reverse_word_index.get(i - 3, '?') for i in test_data[i]]) for i in range(len(y_pred_labels))],\n",
    "                   'sentiment': ['positive' if y_test[i] else 'negative' for i in range(len(y_pred_labels))]})\n",
    "\n",
    "df.to_csv('IMDB Dataset.csv', index=False)\n"
   ]
  },
  {
   "cell_type": "code",
   "execution_count": null,
   "id": "338a31f3",
   "metadata": {},
   "outputs": [],
   "source": []
  }
 ],
 "metadata": {
  "kernelspec": {
   "display_name": "Python 3 (ipykernel)",
   "language": "python",
   "name": "python3"
  },
  "language_info": {
   "codemirror_mode": {
    "name": "ipython",
    "version": 3
   },
   "file_extension": ".py",
   "mimetype": "text/x-python",
   "name": "python",
   "nbconvert_exporter": "python",
   "pygments_lexer": "ipython3",
   "version": "3.9.13"
  }
 },
 "nbformat": 4,
 "nbformat_minor": 5
}
