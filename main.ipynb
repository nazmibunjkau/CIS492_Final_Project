{
 "cells": [
  {
   "cell_type": "markdown",
   "id": "c7c6d118",
   "metadata": {},
   "source": [
    "# Authors: Nazmi Bunjaku (2775692), Geri Bakushi (2819369)\n",
    "# CIS 492 - Big Data Analytics\n",
    "# Professor Sunnie Chung\n",
    "# Final Project - IMDB Sentiment Analysis\n",
    "# May 05, 2023"
   ]
  },
  {
   "cell_type": "markdown",
   "id": "41de1285",
   "metadata": {},
   "source": [
    "### Import necessary packages/libraries"
   ]
  },
  {
   "cell_type": "code",
   "execution_count": 4,
   "id": "74d3fca1",
   "metadata": {},
   "outputs": [
    {
     "name": "stderr",
     "output_type": "stream",
     "text": [
      "[nltk_data] Downloading package vader_lexicon to\n",
      "[nltk_data]     /Users/besabunjaku/nltk_data...\n",
      "[nltk_data]   Package vader_lexicon is already up-to-date!\n"
     ]
    }
   ],
   "source": [
    "# Import necessary libraries\n",
    "import pandas as pd\n",
    "import nltk\n",
    "nltk.downloader.download('vader_lexicon')\n",
    "from nltk.sentiment.vader import SentimentIntensityAnalyzer"
   ]
  },
  {
   "cell_type": "markdown",
   "id": "0b63df7b",
   "metadata": {},
   "source": [
    "### Sentiment Analysis on Each Line"
   ]
  },
  {
   "cell_type": "code",
   "execution_count": 5,
   "id": "4e641949",
   "metadata": {},
   "outputs": [
    {
     "data": {
      "text/html": [
       "<div>\n",
       "<style scoped>\n",
       "    .dataframe tbody tr th:only-of-type {\n",
       "        vertical-align: middle;\n",
       "    }\n",
       "\n",
       "    .dataframe tbody tr th {\n",
       "        vertical-align: top;\n",
       "    }\n",
       "\n",
       "    .dataframe thead th {\n",
       "        text-align: right;\n",
       "    }\n",
       "</style>\n",
       "<table border=\"1\" class=\"dataframe\">\n",
       "  <thead>\n",
       "    <tr style=\"text-align: right;\">\n",
       "      <th></th>\n",
       "      <th>character</th>\n",
       "      <th>character_words</th>\n",
       "      <th>neg</th>\n",
       "      <th>neu</th>\n",
       "      <th>pos</th>\n",
       "      <th>compound</th>\n",
       "    </tr>\n",
       "  </thead>\n",
       "  <tbody>\n",
       "    <tr>\n",
       "      <th>0</th>\n",
       "      <td>Katara</td>\n",
       "      <td>Water. Earth. Fire. Air. My grandmother used t...</td>\n",
       "      <td>0.196</td>\n",
       "      <td>0.735</td>\n",
       "      <td>0.069</td>\n",
       "      <td>-0.9718</td>\n",
       "    </tr>\n",
       "    <tr>\n",
       "      <th>1</th>\n",
       "      <td>Sokka</td>\n",
       "      <td>It's not getting away from me this time.  Watc...</td>\n",
       "      <td>0.000</td>\n",
       "      <td>1.000</td>\n",
       "      <td>0.000</td>\n",
       "      <td>0.0000</td>\n",
       "    </tr>\n",
       "    <tr>\n",
       "      <th>2</th>\n",
       "      <td>Katara</td>\n",
       "      <td>Sokka, look!</td>\n",
       "      <td>0.000</td>\n",
       "      <td>1.000</td>\n",
       "      <td>0.000</td>\n",
       "      <td>0.0000</td>\n",
       "    </tr>\n",
       "    <tr>\n",
       "      <th>3</th>\n",
       "      <td>Sokka</td>\n",
       "      <td>Sshh! Katara, you're going to scare it away.  ...</td>\n",
       "      <td>0.200</td>\n",
       "      <td>0.800</td>\n",
       "      <td>0.000</td>\n",
       "      <td>-0.5411</td>\n",
       "    </tr>\n",
       "    <tr>\n",
       "      <th>4</th>\n",
       "      <td>Katara</td>\n",
       "      <td>But, Sokka! I caught one!</td>\n",
       "      <td>0.000</td>\n",
       "      <td>1.000</td>\n",
       "      <td>0.000</td>\n",
       "      <td>0.0000</td>\n",
       "    </tr>\n",
       "    <tr>\n",
       "      <th>...</th>\n",
       "      <td>...</td>\n",
       "      <td>...</td>\n",
       "      <td>...</td>\n",
       "      <td>...</td>\n",
       "      <td>...</td>\n",
       "      <td>...</td>\n",
       "    </tr>\n",
       "    <tr>\n",
       "      <th>7053</th>\n",
       "      <td>Zuko</td>\n",
       "      <td>At least you don't look like a boar-q-pine! My...</td>\n",
       "      <td>0.183</td>\n",
       "      <td>0.817</td>\n",
       "      <td>0.000</td>\n",
       "      <td>-0.4007</td>\n",
       "    </tr>\n",
       "    <tr>\n",
       "      <th>7054</th>\n",
       "      <td>Suki</td>\n",
       "      <td>And why did you paint me firebending?</td>\n",
       "      <td>0.000</td>\n",
       "      <td>1.000</td>\n",
       "      <td>0.000</td>\n",
       "      <td>0.0000</td>\n",
       "    </tr>\n",
       "    <tr>\n",
       "      <th>7055</th>\n",
       "      <td>Sokka</td>\n",
       "      <td>I thought it looked more exciting that way.  O...</td>\n",
       "      <td>0.000</td>\n",
       "      <td>0.687</td>\n",
       "      <td>0.313</td>\n",
       "      <td>0.7501</td>\n",
       "    </tr>\n",
       "    <tr>\n",
       "      <th>7056</th>\n",
       "      <td>Iroh</td>\n",
       "      <td>Hey, my belly's not that big anymore. I've rea...</td>\n",
       "      <td>0.000</td>\n",
       "      <td>1.000</td>\n",
       "      <td>0.000</td>\n",
       "      <td>0.0000</td>\n",
       "    </tr>\n",
       "    <tr>\n",
       "      <th>7057</th>\n",
       "      <td>Toph</td>\n",
       "      <td>Well I think you all look perfect!</td>\n",
       "      <td>0.000</td>\n",
       "      <td>0.396</td>\n",
       "      <td>0.604</td>\n",
       "      <td>0.7263</td>\n",
       "    </tr>\n",
       "  </tbody>\n",
       "</table>\n",
       "<p>7058 rows × 6 columns</p>\n",
       "</div>"
      ],
      "text/plain": [
       "     character                                    character_words    neg  \\\n",
       "0       Katara  Water. Earth. Fire. Air. My grandmother used t...  0.196   \n",
       "1        Sokka  It's not getting away from me this time.  Watc...  0.000   \n",
       "2       Katara                                       Sokka, look!  0.000   \n",
       "3        Sokka  Sshh! Katara, you're going to scare it away.  ...  0.200   \n",
       "4       Katara                          But, Sokka! I caught one!  0.000   \n",
       "...        ...                                                ...    ...   \n",
       "7053      Zuko  At least you don't look like a boar-q-pine! My...  0.183   \n",
       "7054      Suki              And why did you paint me firebending?  0.000   \n",
       "7055     Sokka  I thought it looked more exciting that way.  O...  0.000   \n",
       "7056      Iroh  Hey, my belly's not that big anymore. I've rea...  0.000   \n",
       "7057      Toph                 Well I think you all look perfect!  0.000   \n",
       "\n",
       "        neu    pos  compound  \n",
       "0     0.735  0.069   -0.9718  \n",
       "1     1.000  0.000    0.0000  \n",
       "2     1.000  0.000    0.0000  \n",
       "3     0.800  0.000   -0.5411  \n",
       "4     1.000  0.000    0.0000  \n",
       "...     ...    ...       ...  \n",
       "7053  0.817  0.000   -0.4007  \n",
       "7054  1.000  0.000    0.0000  \n",
       "7055  0.687  0.313    0.7501  \n",
       "7056  1.000  0.000    0.0000  \n",
       "7057  0.396  0.604    0.7263  \n",
       "\n",
       "[7058 rows x 6 columns]"
      ]
     },
     "execution_count": 5,
     "metadata": {},
     "output_type": "execute_result"
    }
   ],
   "source": [
    "# Reading/Wrangling of Data\n",
    "df_avatar = pd.read_csv('avatar.csv', engine='python', encoding='ISO-8859-1')\n",
    "df_avatar_lines = df_avatar.groupby('character').count()\n",
    "df_avatar_lines = df_avatar_lines.sort_values(by=['character_words'], ascending=False)[:10]\n",
    "top_character_names = df_avatar_lines.index.values\n",
    "\n",
    "# Filtering out Non-Top Characters\n",
    "df_char_sentiment = df_avatar[df_avatar['character'].isin(top_character_names)]\n",
    "df_char_sentiment = df_char_sentiment[['character', 'character_words']]\n",
    "\n",
    "# Calculating Sentiment Score(s)\n",
    "sid = SentimentIntensityAnalyzer()\n",
    "df_char_sentiment.reset_index(inplace=True, drop=True)\n",
    "df_char_sentiment[['neg', 'neu', 'pos', 'compound']] = df_char_sentiment['character_words'].apply(sid.polarity_scores).apply(pd.Series)\n",
    "df_char_sentiment"
   ]
  },
  {
   "cell_type": "markdown",
   "id": "90b2d9cd",
   "metadata": {},
   "source": [
    "### Sentiment Analysis on Each Character"
   ]
  },
  {
   "cell_type": "code",
   "execution_count": 6,
   "id": "ae4b3c47",
   "metadata": {},
   "outputs": [
    {
     "data": {
      "text/html": [
       "<div>\n",
       "<style scoped>\n",
       "    .dataframe tbody tr th:only-of-type {\n",
       "        vertical-align: middle;\n",
       "    }\n",
       "\n",
       "    .dataframe tbody tr th {\n",
       "        vertical-align: top;\n",
       "    }\n",
       "\n",
       "    .dataframe thead th {\n",
       "        text-align: right;\n",
       "    }\n",
       "</style>\n",
       "<table border=\"1\" class=\"dataframe\">\n",
       "  <thead>\n",
       "    <tr style=\"text-align: right;\">\n",
       "      <th></th>\n",
       "      <th>character</th>\n",
       "      <th>neg</th>\n",
       "      <th>neu</th>\n",
       "      <th>pos</th>\n",
       "      <th>compound</th>\n",
       "    </tr>\n",
       "  </thead>\n",
       "  <tbody>\n",
       "    <tr>\n",
       "      <th>0</th>\n",
       "      <td>Zhao</td>\n",
       "      <td>0.135</td>\n",
       "      <td>0.753</td>\n",
       "      <td>0.112</td>\n",
       "      <td>-0.039</td>\n",
       "    </tr>\n",
       "    <tr>\n",
       "      <th>1</th>\n",
       "      <td>Zuko</td>\n",
       "      <td>0.100</td>\n",
       "      <td>0.789</td>\n",
       "      <td>0.112</td>\n",
       "      <td>0.026</td>\n",
       "    </tr>\n",
       "    <tr>\n",
       "      <th>2</th>\n",
       "      <td>Sokka</td>\n",
       "      <td>0.097</td>\n",
       "      <td>0.789</td>\n",
       "      <td>0.115</td>\n",
       "      <td>0.023</td>\n",
       "    </tr>\n",
       "    <tr>\n",
       "      <th>3</th>\n",
       "      <td>Katara</td>\n",
       "      <td>0.091</td>\n",
       "      <td>0.787</td>\n",
       "      <td>0.122</td>\n",
       "      <td>0.045</td>\n",
       "    </tr>\n",
       "    <tr>\n",
       "      <th>4</th>\n",
       "      <td>Azula</td>\n",
       "      <td>0.090</td>\n",
       "      <td>0.784</td>\n",
       "      <td>0.127</td>\n",
       "      <td>0.080</td>\n",
       "    </tr>\n",
       "    <tr>\n",
       "      <th>5</th>\n",
       "      <td>Suki</td>\n",
       "      <td>0.090</td>\n",
       "      <td>0.783</td>\n",
       "      <td>0.127</td>\n",
       "      <td>0.086</td>\n",
       "    </tr>\n",
       "    <tr>\n",
       "      <th>6</th>\n",
       "      <td>Jet</td>\n",
       "      <td>0.090</td>\n",
       "      <td>0.777</td>\n",
       "      <td>0.133</td>\n",
       "      <td>0.063</td>\n",
       "    </tr>\n",
       "    <tr>\n",
       "      <th>7</th>\n",
       "      <td>Toph</td>\n",
       "      <td>0.084</td>\n",
       "      <td>0.776</td>\n",
       "      <td>0.140</td>\n",
       "      <td>0.074</td>\n",
       "    </tr>\n",
       "    <tr>\n",
       "      <th>8</th>\n",
       "      <td>Aang</td>\n",
       "      <td>0.075</td>\n",
       "      <td>0.782</td>\n",
       "      <td>0.143</td>\n",
       "      <td>0.083</td>\n",
       "    </tr>\n",
       "    <tr>\n",
       "      <th>9</th>\n",
       "      <td>Iroh</td>\n",
       "      <td>0.077</td>\n",
       "      <td>0.754</td>\n",
       "      <td>0.169</td>\n",
       "      <td>0.164</td>\n",
       "    </tr>\n",
       "  </tbody>\n",
       "</table>\n",
       "</div>"
      ],
      "text/plain": [
       "  character    neg    neu    pos  compound\n",
       "0      Zhao  0.135  0.753  0.112    -0.039\n",
       "1      Zuko  0.100  0.789  0.112     0.026\n",
       "2     Sokka  0.097  0.789  0.115     0.023\n",
       "3    Katara  0.091  0.787  0.122     0.045\n",
       "4     Azula  0.090  0.784  0.127     0.080\n",
       "5      Suki  0.090  0.783  0.127     0.086\n",
       "6       Jet  0.090  0.777  0.133     0.063\n",
       "7      Toph  0.084  0.776  0.140     0.074\n",
       "8      Aang  0.075  0.782  0.143     0.083\n",
       "9      Iroh  0.077  0.754  0.169     0.164"
      ]
     },
     "execution_count": 6,
     "metadata": {},
     "output_type": "execute_result"
    }
   ],
   "source": [
    "# Sentiment of Each Character (mean)\n",
    "df_char_sentiment = df_char_sentiment.groupby('character').mean().round(3).sort_values('pos', ascending=True)\n",
    "df_char_sentiment.reset_index(inplace=True)\n",
    "df_char_sentiment"
   ]
  },
  {
   "cell_type": "markdown",
   "id": "ceec15a1",
   "metadata": {},
   "source": [
    "### Visualizing the Sentiment Analysis"
   ]
  },
  {
   "cell_type": "code",
   "execution_count": 7,
   "id": "fff1f36b",
   "metadata": {},
   "outputs": [
    {
     "data": {
      "image/png": "[encoded data removed]",
      "text/plain": [
       "<Figure size 1700x1200 with 1 Axes>"
      ]
     },
     "metadata": {},
     "output_type": "display_data"
    }
   ],
   "source": [
    "import matplotlib.pyplot as plt\n",
    "import numpy as np\n",
    "\n",
    "# Preparing data\n",
    "X = np.arange(len(df_char_sentiment['pos']))\n",
    "\n",
    "# Bar Graph\n",
    "fig = plt.figure(figsize = (17,12))\n",
    "plt.barh(X, df_char_sentiment['pos'], facecolor='#9999ff', edgecolor='white')\n",
    "plt.barh(X, -df_char_sentiment['neg'], facecolor='#ff9999', edgecolor='white')\n",
    "\n",
    "plt.xlim([-.16,.22])\n",
    "plt.yticks(ticks=X, labels=df_char_sentiment['character'], rotation='0')\n",
    "plt.show()"
   ]
  },
  {
   "cell_type": "markdown",
   "id": "4d33fc44",
   "metadata": {},
   "source": [
    "### Named Entity Recognition (NER)"
   ]
  },
  {
   "cell_type": "code",
   "execution_count": 11,
   "id": "42fd5532",
   "metadata": {},
   "outputs": [
    {
     "name": "stdout",
     "output_type": "stream",
     "text": [
      "[('Biden', 'PERSON'), ('Ukrainian', 'NORP'), ('Volodymyr Zelensky', 'PERSON'), ('the White House', 'ORG'), ('this Summer', 'DATE'), ('Ukraine', 'GPE'), ('Russia', 'GPE')]\n"
     ]
    }
   ],
   "source": [
    "import spacy\n",
    "\n",
    "nlp = spacy.load(\"en_core_web_sm\")\n",
    "doc = nlp(\"Biden invites Ukrainian President Volodymyr Zelensky to the White House this Summer to discuss international affairs, and the ongoing conflict/war in Ukraine-Russia.\")\n",
    "print([(X.text, X.label_) for X in doc.ents])"
   ]
  },
  {
   "cell_type": "markdown",
   "id": "d13ed624",
   "metadata": {},
   "source": [
    "### Stemming"
   ]
  },
  {
   "cell_type": "code",
   "execution_count": null,
   "id": "c5ee93b8",
   "metadata": {},
   "outputs": [],
   "source": []
  },
  {
   "cell_type": "markdown",
   "id": "a927bf25",
   "metadata": {},
   "source": [
    "### Lemmatization"
   ]
  },
  {
   "cell_type": "code",
   "execution_count": null,
   "id": "32ce9cf7",
   "metadata": {},
   "outputs": [],
   "source": []
  },
  {
   "cell_type": "markdown",
   "id": "36aee3a6",
   "metadata": {},
   "source": [
    "### Bag of Wors (BoW)"
   ]
  },
  {
   "cell_type": "code",
   "execution_count": null,
   "id": "bc7da333",
   "metadata": {},
   "outputs": [],
   "source": []
  },
  {
   "cell_type": "markdown",
   "id": "c92ec051",
   "metadata": {},
   "source": [
    "### TF-IDF"
   ]
  },
  {
   "cell_type": "code",
   "execution_count": null,
   "id": "dfaefa3e",
   "metadata": {},
   "outputs": [],
   "source": []
  },
  {
   "cell_type": "markdown",
   "id": "d8653b7a",
   "metadata": {},
   "source": [
    "### Wordcloud"
   ]
  },
  {
   "cell_type": "code",
   "execution_count": null,
   "id": "ee7d6668",
   "metadata": {},
   "outputs": [],
   "source": []
  }
 ],
 "metadata": {
  "kernelspec": {
   "display_name": "Python 3 (ipykernel)",
   "language": "python",
   "name": "python3"
  },
  "language_info": {
   "codemirror_mode": {
    "name": "ipython",
    "version": 3
   },
   "file_extension": ".py",
   "mimetype": "text/x-python",
   "name": "python",
   "nbconvert_exporter": "python",
   "pygments_lexer": "ipython3",
   "version": "3.9.13"
  }
 },
 "nbformat": 4,
 "nbformat_minor": 5
}
